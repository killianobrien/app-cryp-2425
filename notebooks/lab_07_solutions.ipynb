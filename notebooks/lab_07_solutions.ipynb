{
 "cells": [
  {
   "cell_type": "markdown",
   "id": "3befdaba-a697-40a7-b711-37704fd72d39",
   "metadata": {},
   "source": [
    "# Week 07 Lab\n",
    "## Applied Cryptography (6G6Z0024)\n",
    "## Killian O'Brien\n",
    "### Lab exercises solutions"
   ]
  },
  {
   "cell_type": "markdown",
   "id": "4185a28c-59cd-4e4b-8ba7-09d972d21085",
   "metadata": {},
   "source": [
    "#### Q9.2 a."
   ]
  },
  {
   "cell_type": "code",
   "execution_count": null,
   "id": "ca4191ca-1ddc-43fe-8f55-40d17aaa7a5e",
   "metadata": {},
   "outputs": [],
   "source": []
  }
 ],
 "metadata": {
  "kernelspec": {
   "display_name": "Python 3 (ipykernel)",
   "language": "python",
   "name": "python3"
  },
  "language_info": {
   "codemirror_mode": {
    "name": "ipython",
    "version": 3
   },
   "file_extension": ".py",
   "mimetype": "text/x-python",
   "name": "python",
   "nbconvert_exporter": "python",
   "pygments_lexer": "ipython3",
   "version": "3.12.4"
  }
 },
 "nbformat": 4,
 "nbformat_minor": 5
}
