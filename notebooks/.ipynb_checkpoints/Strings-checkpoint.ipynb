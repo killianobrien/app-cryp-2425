{
 "cells": [
  {
   "cell_type": "markdown",
   "id": "602c4b00",
   "metadata": {},
   "source": [
    "# Working with strings in Python\n",
    "\n",
    "*Some useful commands and techniques for working on the DES questions.*"
   ]
  },
  {
   "cell_type": "markdown",
   "id": "32619472",
   "metadata": {},
   "source": [
    "Consider the following 64 bit binary string `k`. This is actually the key string that you will be using in answering the DES questions. Here we will use it to demonstrate some string manipulation techniques."
   ]
  },
  {
   "cell_type": "code",
   "execution_count": 1,
   "id": "16bb48f3",
   "metadata": {},
   "outputs": [
    {
     "data": {
      "text/plain": [
       "'0011000100110010001100110011010000110101001101100011011100111000'"
      ]
     },
     "execution_count": 1,
     "metadata": {},
     "output_type": "execute_result"
    }
   ],
   "source": [
    "k = '0011000100110010001100110011010000110101001101100011011100111000'\n",
    "k"
   ]
  },
  {
   "cell_type": "markdown",
   "id": "f5e9aa57",
   "metadata": {},
   "source": [
    "The command `len(k)` returns the length of the string, i.e. the number of characters in the string. "
   ]
  },
  {
   "cell_type": "code",
   "execution_count": 2,
   "id": "cd4a13a5",
   "metadata": {},
   "outputs": [
    {
     "data": {
      "text/plain": [
       "64"
      ]
     },
     "execution_count": 2,
     "metadata": {},
     "output_type": "execute_result"
    }
   ],
   "source": [
    "len(k)"
   ]
  },
  {
   "cell_type": "markdown",
   "id": "7c4567a6",
   "metadata": {},
   "source": [
    "Individual characters of the string `k` can be referenced by `k[i]`, where `i` is the index of a character in the string. Remember that Python, like most languages, uses 0-based indexing of strings and arrays. So here are the first three characters of `k`"
   ]
  },
  {
   "cell_type": "code",
   "execution_count": 3,
   "id": "9b9acbdb",
   "metadata": {},
   "outputs": [
    {
     "data": {
      "text/plain": [
       "'0'"
      ]
     },
     "execution_count": 3,
     "metadata": {},
     "output_type": "execute_result"
    }
   ],
   "source": [
    "k[0]"
   ]
  },
  {
   "cell_type": "code",
   "execution_count": 4,
   "id": "aeb362d1",
   "metadata": {},
   "outputs": [
    {
     "data": {
      "text/plain": [
       "'0'"
      ]
     },
     "execution_count": 4,
     "metadata": {},
     "output_type": "execute_result"
    }
   ],
   "source": [
    "k[1]"
   ]
  },
  {
   "cell_type": "code",
   "execution_count": 5,
   "id": "e856556d",
   "metadata": {},
   "outputs": [
    {
     "data": {
      "text/plain": [
       "'1'"
      ]
     },
     "execution_count": 5,
     "metadata": {},
     "output_type": "execute_result"
    }
   ],
   "source": [
    "k[2]"
   ]
  },
  {
   "cell_type": "markdown",
   "id": "fc7c95f0",
   "metadata": {},
   "source": [
    "Note that these commands return single character strings."
   ]
  },
  {
   "cell_type": "markdown",
   "id": "3a2343bc",
   "metadata": {},
   "source": [
    "This indexing can be extended to refer to substrings within `k`. This is sometimes referred to as string *slicing*. For instance the following returns a ten character substring of `k`, consisting of the bits from index position 3 through 12, i.e. the fourth through thirteenth bits of `k`. "
   ]
  },
  {
   "cell_type": "code",
   "execution_count": 6,
   "id": "6e21ab25",
   "metadata": {},
   "outputs": [
    {
     "data": {
      "text/plain": [
       "'1000100110'"
      ]
     },
     "execution_count": 6,
     "metadata": {},
     "output_type": "execute_result"
    }
   ],
   "source": [
    "s = k[3:13]\n",
    "s"
   ]
  },
  {
   "cell_type": "code",
   "execution_count": 7,
   "id": "e3a7285e",
   "metadata": {},
   "outputs": [
    {
     "data": {
      "text/plain": [
       "10"
      ]
     },
     "execution_count": 7,
     "metadata": {},
     "output_type": "execute_result"
    }
   ],
   "source": [
    "len(s)"
   ]
  },
  {
   "cell_type": "code",
   "execution_count": null,
   "id": "8dd3a223",
   "metadata": {},
   "outputs": [],
   "source": []
  }
 ],
 "metadata": {
  "kernelspec": {
   "display_name": "Python 3 (ipykernel)",
   "language": "python",
   "name": "python3"
  },
  "language_info": {
   "codemirror_mode": {
    "name": "ipython",
    "version": 3
   },
   "file_extension": ".py",
   "mimetype": "text/x-python",
   "name": "python",
   "nbconvert_exporter": "python",
   "pygments_lexer": "ipython3",
   "version": "3.10.12"
  }
 },
 "nbformat": 4,
 "nbformat_minor": 5
}
